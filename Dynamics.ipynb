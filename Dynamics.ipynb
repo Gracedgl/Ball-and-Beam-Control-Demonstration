{
 "metadata": {
  "name": "",
  "signature": "sha256:ea7b1659b7fe6d33d441a415657c2329d91b7796ade258dddad9a79c4f2c6d41"
 },
 "nbformat": 3,
 "nbformat_minor": 0,
 "worksheets": [
  {
   "cells": [
    {
     "cell_type": "markdown",
     "metadata": {},
     "source": [
      "## Dynamics\n",
      "\n",
      "The position of the ball is governed by a second order differential equation of the form\n",
      "\n",
      "$$ \\frac{d^2x}{dt^2} = K_{beam} u$$\n",
      "\n",
      "1. Exercise: Design and perform a simulation experiment to estimate the parameter $K_{beam}$.\n",
      "\n",
      "## Proportional Control\n",
      "\n",
      "As the name suggests, under proportional control the beam position is set in proportion to the difference between the ball position and desired setpoint.\n",
      "\n",
      "$$u = K_p(x_{sp}-x)$$\n",
      "\n",
      "Under the |Mode| menu, select proportional control (P) and use the slider controls to adjust $K_p$. Adjust the setpoint, then push |Run|. You can adjust the setpoint and control gain during the course of a |Run|.  \n",
      "\n",
      "1. Exercise: What type of behavior do you observe?  Substituting the the expression for the control action into the dynamical model leads to a second order differential equation.  What is the solution to that equation?\n",
      "2. Exercise*: Use the results of the above exercise to estimate the value of $K_{beam}$.\n",
      "\n",
      "\n",
      "## Proportional-Derivative Control\n",
      "\n",
      "Proportional control alone leads to an oscillatory response. Proportional-Derivative (PD) control adds additional damping through a derivative term in the control law\n",
      "\n",
      "$$ u = K_p(x_{sp}-x) - K_p\\tau_d\\frac{dx}{dt} $$\n",
      "\n",
      "where $\\tau_d$ is the derivative 'time-constant'. Under the `Mode` menu, select proportional-derivative control (PD) and adjust the parameters with the associated sliders. \n",
      "\n",
      "1. Exercise: Set $K_p = 0.1$. How large does $\\tau_d$ need to be to completely suppress overshoot of the setpoint? \n",
      "2. Exercise: Explore the response of the controlled system to a step change"
     ]
    }
   ],
   "metadata": {}
  }
 ]
}