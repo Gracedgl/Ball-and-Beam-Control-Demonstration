{
 "metadata": {
  "name": "",
  "signature": "sha256:ecd6f0d808e158d86a477b7559baa93c888b8fe65f4d10ec850e1bae582cc7c9"
 },
 "nbformat": 3,
 "nbformat_minor": 0,
 "worksheets": [
  {
   "cells": [
    {
     "cell_type": "heading",
     "level": 1,
     "metadata": {},
     "source": [
      "Control of the Ball and Beam System"
     ]
    },
    {
     "cell_type": "heading",
     "level": 2,
     "metadata": {},
     "source": [
      "Dynamics"
     ]
    },
    {
     "cell_type": "markdown",
     "metadata": {},
     "source": [
      "The position of the ball is governed by a second order differential equation of the form\n",
      "\n",
      "$$(m + I) \\frac{d^2x}{dt^2} = m g\\sin(u)$$\n",
      "\n",
      "where $x$ is the ball position and $u$ is the angle of the beam relative to the horizontal. The ball has mass $m$, and $g$ is the acceleration of gravity.  Parameter $I$ is the moment of inertia for the ball which rolls along the beam. Dividing both sides of the equation by $(m+I)$ gives\n",
      "\n",
      "$$ \\frac{d^2x}{dt^2} = K_{b} \\sin(u)$$\n",
      "\n",
      "where $ K_b = \\frac{m g}{m + I}$ is a system constant. The beam angle $u$ is measured in radians and typically small.  A Taylor series expansion for $\\sin(u)$ for small values of $u$ is\n",
      "\n",
      "$$\\sin(u)  = u - \\frac{u^3}{6} + \\frac{u^5}{120} + \\cdots $$\n",
      "\n",
      "Neglecting higher order terms, we have a model for the dynamics of the ball on the beam given by\n",
      "\n",
      "$$ \\frac{d^2x}{dt^2} = K_{b} u$$\n",
      "\n",
      "#### Exercise\n",
      "\n",
      "Design and perform simple experiment using the ball and beam simulation to estimate the value of $K_b$. "
     ]
    },
    {
     "cell_type": "heading",
     "level": 2,
     "metadata": {},
     "source": [
      "Proportional Control"
     ]
    },
    {
     "cell_type": "markdown",
     "metadata": {},
     "source": [
      "As the name suggests, under proportional control the beam position is set in proportion to the difference between the ball position and desired setpoint.\n",
      "\n",
      "$$u = K_p(x_{sp}-x)$$\n",
      "\n",
      "Under the |Mode| menu, select proportional control (P) and use the slider controls to adjust $K_p$. Adjust the setpoint, then push |Run|. You can adjust the setpoint and control gain during the course of a |Run|.  \n",
      "\n",
      "1. Exercise: What type of behavior do you observe?  Substituting the the expression for the control action into the dynamical model leads to a second order differential equation.  What is the solution to that equation?\n",
      "2. Exercise*: Use the results of the above exercise to estimate the value of $K_{beam}$.\n",
      "\n",
      "\n",
      "## Proportional-Derivative Control\n",
      "\n",
      "Proportional control alone leads to an oscillatory response. Proportional-Derivative (PD) control adds additional damping through a derivative term in the control law\n",
      "\n",
      "$$ u = K_p(x_{sp}-x) - K_p\\tau_d\\frac{dx}{dt} $$\n",
      "\n",
      "where $\\tau_d$ is the derivative 'time-constant'. Under the `Mode` menu, select proportional-derivative control (PD) and adjust the parameters with the associated sliders. \n",
      "\n",
      "1. Exercise: Set $K_p = 0.1$. How large does $\\tau_d$ need to be to completely suppress overshoot of the setpoint? \n",
      "2. Exercise: Explore the response of the controlled system to a step change"
     ]
    }
   ],
   "metadata": {}
  }
 ]
}