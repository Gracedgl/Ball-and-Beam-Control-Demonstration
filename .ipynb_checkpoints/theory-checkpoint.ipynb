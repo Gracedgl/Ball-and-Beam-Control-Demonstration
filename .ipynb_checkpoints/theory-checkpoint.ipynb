{
 "metadata": {
  "name": "",
  "signature": "sha256:0bcb4525a8dfc33e3cb049644e5a9ecf0505a360f846f1937a92d5f9d436bad3"
 },
 "nbformat": 3,
 "nbformat_minor": 0,
 "worksheets": [
  {
   "cells": [
    {
     "cell_type": "heading",
     "level": 1,
     "metadata": {},
     "source": [
      "Control of the Ball and Beam System"
     ]
    },
    {
     "cell_type": "heading",
     "level": 2,
     "metadata": {},
     "source": [
      "Open Loop Dynamics"
     ]
    },
    {
     "cell_type": "markdown",
     "metadata": {},
     "source": [
      "The position of the ball is governed by a second order differential equation of the form\n",
      "\n",
      "$$(m + I) \\frac{d^2x}{dt^2} = m g\\sin(u)$$\n",
      "\n",
      "where $x$ is the ball position and $u$ is the angle of the beam relative to the horizontal. The ball has mass $m$, and $g$ is the acceleration of gravity.  Parameter $I$ is the moment of inertia for the ball which rolls along the beam. Dividing both sides of the equation by $(m+I)$ gives\n",
      "\n",
      "$$ \\frac{d^2x}{dt^2} = K_{b} \\sin(u)$$\n",
      "\n",
      "where $ K_b = \\frac{m g}{m + I}$ is a system constant. The beam angle $u$ is measured in radians and typically small.  A Taylor series expansion for $\\sin(u)$ for small values of $u$ is\n",
      "\n",
      "$$\\sin(u)  = u - \\frac{u^3}{6} + \\frac{u^5}{120} + \\cdots $$\n",
      "\n",
      "Neglecting higher order terms, we have a model for the dynamics of the ball on the beam given by\n",
      "\n",
      "$$ \\frac{d^2x}{dt^2} = K_{b} u$$\n",
      "\n",
      "#### Exercise\n",
      "\n",
      "Design and perform simple experiment using the ball and beam simulation to estimate the value of $K_b$. "
     ]
    },
    {
     "cell_type": "heading",
     "level": 2,
     "metadata": {},
     "source": [
      "Proportional Control"
     ]
    },
    {
     "cell_type": "markdown",
     "metadata": {},
     "source": [
      "As the name suggests, under proportional control the beam angle is set in proportion to the difference between the ball position and desired setpoint.\n",
      "\n",
      "$$u = K_p(x_{sp}-x)$$\n",
      "\n",
      "Substituting this into the model of the ball dynamics,\n",
      "\n",
      "$$ \\frac{d^2x}{dt^2} = K_b K_p (x_{sp}-x)$$\n",
      "\n",
      "or \n",
      "\n",
      "$$ \\frac{d^2x}{dt^2} + K_b K_p x = K_b K_p x_{sp}$$\n",
      "\n",
      "This is the model of a harmonic oscillator with frequency of $\\omega = \\sqrt{K_p K_b}$ in units of rad/sec.\n",
      "\n",
      "#### Exercise\n",
      "\n",
      "Put the ball and beam system under proportional control.  Set the value of $K_p$, and use the value of $K_b$ determined above to predict the frequency of oscillation. Does this match the observed frequency?"
     ]
    },
    {
     "cell_type": "heading",
     "level": 2,
     "metadata": {},
     "source": [
      "Proportional-Derivative Control"
     ]
    },
    {
     "cell_type": "markdown",
     "metadata": {},
     "source": [
      "Proportional control alone leads to an oscillatory response. Proportional-Derivative (PD) control adds additional damping to provide a practical result.\n",
      "\n",
      "$$ u = K_p(x_{sp}-x) - K_p\\tau_d\\frac{dx}{dt} $$\n",
      "\n",
      "where $\\tau_d$ is the derivative 'time-constant'. Substituting into the model of the ball dynamics,\n",
      "\n",
      "$$ \\frac{d^2x}{dt^2} + K_p K_b \\tau_d \\frac{dx}{dt} + \\ K_b K_p x = K_b K_p x_{sp}$$\n",
      "\n",
      "This is the model of damped oscillator.  The value of $\\tau_d$ determines the amount of damping. High values of $\\tau_d$ lead to a sluggish, overdamped response, while low value values of $\\tau_d$ lead to significant overshoot of the setpoint. \n",
      "\n",
      "#### Exercise\n",
      "\n",
      "Critical damping correponds to the smallest value of $\\tau_d$ with no overshoot. Use the mathematical model and the values of $K_b$ and $K_p$ from the above exercises to predict the value of $\\tau_d$ for critical damping$.\n",
      "\n",
      "#### Exercise\n",
      "\n",
      "Put the setpoint the largest (or smallest) possible value. Find the smallest value of $\\tau_d$ for which the ball doesn't fall off the beam. How does this compare to the critical damping value?"
     ]
    }
   ],
   "metadata": {}
  }
 ]
}